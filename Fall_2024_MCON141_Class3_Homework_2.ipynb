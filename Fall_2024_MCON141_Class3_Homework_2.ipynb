{
  "cells": [
    {
      "cell_type": "markdown",
      "metadata": {
        "id": "view-in-github",
        "colab_type": "text"
      },
      "source": [
        "<a href=\"https://colab.research.google.com/github/asoffer2/module3_Anita_Soffer/blob/main/Fall_2024_MCON141_Class3_Homework_2.ipynb\" target=\"_parent\"><img src=\"https://colab.research.google.com/assets/colab-badge.svg\" alt=\"Open In Colab\"/></a>"
      ]
    },
    {
      "cell_type": "markdown",
      "id": "cd91769c",
      "metadata": {
        "id": "cd91769c"
      },
      "source": [
        "\n",
        "# MCON 141 — Class 3 Homework\n",
        "\n",
        "Welcome! 🌟 This homework is designed to help you feel confident with **decision structures** and **boolean logic**.  \n",
        "You’ll use `if / elif / else`, nested `if` where helpful, and the operators `and`, `or`, and `not`.  \n",
        "We’re **not** using loops yet (`while`, `for`) — everything here can be done with straight‑line code.\n",
        "\n",
        "Additionally, although I am giving you this homework within Jupyter, feel free to work on this in an IDE such as IDLE or PyCharm, and submit the answers here.\n",
        "\n",
        "### How to approach this set\n",
        "- Work one problem at a time. Run your cell, read the output, and refine.\n",
        "- Be kind to yourself — it’s normal to try, run, and adjust as you go.\n",
        "- When taking user input, please **validate it** with `try/except` and use `raise ValueError` for out‑of‑range or invalid options.\n",
        "- Use f‑strings for friendly, clear messages (e.g., `print(f\"Final price: ${price:.2f}\")`).\n",
        "\n",
        "If you get stuck, read the **gentle hints** included after many prompts. You’ve got this! 💪\n"
      ]
    },
    {
      "cell_type": "markdown",
      "id": "6af8aabf",
      "metadata": {
        "id": "6af8aabf"
      },
      "source": [
        "\n",
        "**Validation rules (for all problems)**  \n",
        "- If a numeric input is not a number → handle with `except ValueError`.\n",
        "- If a numeric input is outside the allowed range → `raise ValueError(\"...\")` and handle it.\n",
        "- If a text input isn’t one of the allowed choices (e.g., `y/n`, or `mon..sun`) → `raise ValueError(\"expected ...\")` and handle it.\n",
        "- Normalize text inputs with `.strip().lower()`.\n"
      ]
    },
    {
      "cell_type": "markdown",
      "id": "ba273b62",
      "metadata": {
        "id": "ba273b62"
      },
      "source": [
        "\n",
        "## 1) Free shipping gate\n",
        "\n",
        "**Prompt**  \n",
        "Ask for **order_total** (float) and **membership** (`\"y\"` / `\"n\"`).  \n",
        "Free shipping rules:  \n",
        "- Free if `order_total >= 60` **or** membership is `\"y\"` **and** `order_total >= 40`.  \n",
        "- Otherwise, no free shipping.\n",
        "\n",
        "**Your task**  \n",
        "- Validate inputs (see rules above).  \n",
        "- Print exactly `\"Free shipping\"` or `\"No free shipping\"`.  \n",
        "\n",
        "*Gentle hint:* It can help to create a boolean like `is_member = (membership == \"y\")` before your `if`.\n"
      ]
    },
    {
      "cell_type": "code",
      "execution_count": 29,
      "id": "d9d440a9",
      "metadata": {
        "colab": {
          "base_uri": "https://localhost:8080/"
        },
        "id": "d9d440a9",
        "outputId": "b5aa2b13-6b1d-41ef-ef5d-c91303bffd9f"
      },
      "outputs": [
        {
          "output_type": "stream",
          "name": "stdout",
          "text": [
            "What is your order total?y\n",
            "Invalid. Please enter a number\n",
            "What is your order total?56\n",
            "Do you have a membership (y/n)?h\n",
            "Please enter y or n\n",
            "Do you have a membership (y/n)?y\n",
            "Free shipping\n"
          ]
        }
      ],
      "source": [
        "# YOUR CODE HERE\n",
        "def main():\n",
        "  try:\n",
        "    order_total = float(input(\"What is your order total?\"))\n",
        "  except ValueError:\n",
        "    print(\"Invalid. Please enter a number\")\n",
        "    order_total = float(input(\"What is your order total?\"))\n",
        "  try:\n",
        "    membership = input(\"Do you have a membership (y/n)?\").strip().lower()\n",
        "    if membership not in ('y', 'n'):\n",
        "      raise ValueError(\"Expected y or n\")\n",
        "      membership = input(\"Do you have a membership (y/n)?\").strip().lower()\n",
        "  except ValueError:\n",
        "    print(\"Please enter y or n\")\n",
        "    membership = input(\"Do you have a membership (y/n)?\").strip().lower()\n",
        "  is_member = (membership == \"y\")\n",
        "  if order_total >= 60 or (is_member and order_total >= 40):\n",
        "    print(\"Free shipping\")\n",
        "  else:\n",
        "    print(\"No free shipping\")\n",
        "\n",
        "main()\n",
        "\n",
        "# 1) Read inputs (order_total, membership) with validation.\n",
        "# 2) Decide based on the rule; print the exact message."
      ]
    },
    {
      "cell_type": "markdown",
      "id": "2b6be3c3",
      "metadata": {
        "id": "2b6be3c3"
      },
      "source": [
        "\n",
        "## 2) Triangle validity & type\n",
        "\n",
        "**Prompt**  \n",
        "Ask for three side lengths **a**, **b**, **c** (floats).  \n",
        "- First, validate that all are **> 0**.  \n",
        "- Then check triangle inequality: `a + b > c`, `a + c > b`, `b + c > a`.  \n",
        "  - If invalid → print `\"Not a triangle\"` and stop.  \n",
        "- If valid, print **exactly one** of: `\"Equilateral\"`, `\"Isosceles\"`, `\"Scalene\"`.\n",
        "\n",
        "**Your task**  \n",
        "- Validate numeric conversion and positivity.  \n",
        "- Implement the checks carefully and choose exactly one type to print.\n",
        "\n",
        "*Gentle hint:* Check validity first; only classify if valid.\n",
        "\n",
        "**Support for triangles **\n",
        "\n",
        "A triangle is Equilateral if All three sides are equal:\n",
        "a == b == c\n",
        "\n",
        "Isosceles : Exactly two sides are equal:\n",
        "(a == b or a == c or b == c) but not all three equal\n",
        "\n",
        "Scalene : All three sides are different:\n",
        "a != b and a != c and b != c\n",
        "\n",
        "\n"
      ]
    },
    {
      "cell_type": "code",
      "execution_count": 37,
      "id": "61ea08e9",
      "metadata": {
        "colab": {
          "base_uri": "https://localhost:8080/"
        },
        "id": "61ea08e9",
        "outputId": "43e73641-c064-41f7-8876-ac916ef4fdd3"
      },
      "outputs": [
        {
          "output_type": "stream",
          "name": "stdout",
          "text": [
            "Please enter the first side length 789999\n",
            "Please enter the second side length 2\n",
            "Please enter the third side length 1\n",
            "Not a triangle\n"
          ]
        }
      ],
      "source": [
        "\n",
        "# YOUR CODE HERE\n",
        "def main():\n",
        "  try:\n",
        "    a=float(input(\"Please enter the first side length \"))\n",
        "    if a<=0:\n",
        "      raise ValueError(\"Expected number greater than 0\")\n",
        "      print(\"Please enter a number greater than 0\")\n",
        "  except ValueError:\n",
        "    print(\"Please enter a number greater than 0\")\n",
        "    a=float(input(\"Please enter the first side length \"))\n",
        "  try:\n",
        "    b=float(input(\"Please enter the second side length \"))\n",
        "    if b<=0:\n",
        "      raise ValueError(\"Expected number greater than 0 \")\n",
        "      print(\"Please enter a number greater than 0\")\n",
        "      b=float(input(\"Please enter the second side length \"))\n",
        "  except ValueError:\n",
        "    print(\"Please enter a number\")\n",
        "    b=float(input(\"Please enter the second side length \"))\n",
        "  try:\n",
        "    c=float(input(\"Please enter the third side length \"))\n",
        "    if c<=0:\n",
        "      raise ValueError(\"Expected number greater than 0\")\n",
        "      print(\"Please enter a number greater than 0\")\n",
        "      c=float(input(\"Please enter the third side length \"))\n",
        "  except ValueError:\n",
        "    print(\"Please enter a number\")\n",
        "    c=float(input(\"Please enter the third side length \"))\n",
        "  if not a+b>c or not a+c>b or not b+c>a:\n",
        "    print(\"Not a triangle\")\n",
        "  else:\n",
        "    if a==b or a==c or b==c:\n",
        "      print(\"Isosceles\")\n",
        "    if a==b==c:\n",
        "      print(\"Equilateral\")\n",
        "    if a!=b and a!=c and b!=c:\n",
        "      print(\"Scalene\")\n",
        "main()\n",
        "\n",
        "\n",
        "# 1) Inputs a, b, c with validation\n",
        "# 2) If invalid -> print(\"Not a triangle\")\n",
        "# 3) Else -> choose exactly one triangle type\n"
      ]
    },
    {
      "cell_type": "markdown",
      "id": "38d6cf49",
      "metadata": {
        "id": "38d6cf49"
      },
      "source": [
        "\n",
        "## 3) Library access hours with membership override\n",
        "\n",
        "**Prompt**  \n",
        "Ask for **hour** (int, 0–23) and **member** (`\"y\"`/`\"n\"`).  \n",
        "- Open to **everyone** from 9–20 inclusive.  \n",
        "- Open to **members only** at hours 7–8 and 21–22.  \n",
        "- Otherwise, **Closed**.\n",
        "\n",
        "**Your task**  \n",
        "- Validate inputs.  \n",
        "- Print **exactly one** of: `\"Open to all\"`, `\"Open to members\"`, `\"Closed\"`.\n",
        "\n",
        "*Gentle hint:* Think of this as a small decision tree. Check the “open to all” window first.\n"
      ]
    },
    {
      "cell_type": "code",
      "execution_count": 40,
      "id": "ea753771",
      "metadata": {
        "colab": {
          "base_uri": "https://localhost:8080/"
        },
        "id": "ea753771",
        "outputId": "8b785a6d-0827-4eac-ec92-40aa1d3d8851"
      },
      "outputs": [
        {
          "output_type": "stream",
          "name": "stdout",
          "text": [
            "Which hour? 9\n",
            "Are you a member?y/n y\n",
            "Please enter y or n\n",
            "Open to all\n"
          ]
        }
      ],
      "source": [
        "\n",
        "# YOUR CODE HERE\n",
        "def main():\n",
        "  try:\n",
        "    hour= int(input(\"Which hour? \"))\n",
        "    if hour<0 or hour>23:\n",
        "      raise ValueError(\"Expected integer between 0 and 23\")\n",
        "  except ValueError:\n",
        "    print(\"Please enter an integer between 0 and 23\")\n",
        "    hour= int(input(\"Which hour? \"))\n",
        "  try:\n",
        "    member=input(\"Are you a member?y/n \")\n",
        "    if member!=\"y\" or \"n\":\n",
        "      raise ValueError(\"Expected y or n\")\n",
        "  except ValueError:\n",
        "    print(\"Please enter y or n\")\n",
        "  if hour>=9 and hour<=20:\n",
        "    print(\"Open to all\")\n",
        "  elif hour==7 or hour==8 or hour==21 or hour==22:\n",
        "    print(\"Open to members\")\n",
        "  else:\n",
        "    print(\"Closed\")\n",
        "main()\n",
        "\n",
        "# 1) Validate hour and member\n",
        "# 2) Decide and print one of the three messages\n"
      ]
    },
    {
      "cell_type": "markdown",
      "id": "bbd08bb4",
      "metadata": {
        "id": "bbd08bb4"
      },
      "source": [
        "\n",
        "## 4) Temperature banding\n",
        "\n",
        "**Prompt**  \n",
        "Ask for **temp** (int) and categorize into exactly one label:  \n",
        "- `temp <= 0` → `\"Freezing\"`  \n",
        "- `1–15` → `\"Cold\"`  \n",
        "- `16–25` → `\"Mild\"`  \n",
        "- `26–32` → `\"Warm\"`  \n",
        "- `>= 33` → `\"Hot\"`\n",
        "\n",
        "**Your task**  \n",
        "- Validate integer input.  \n",
        "- Make sure **only one** label is printed.\n",
        "\n",
        "*Gentle hint:* Use `elif` to avoid overlapping outputs.\n"
      ]
    },
    {
      "cell_type": "code",
      "execution_count": 45,
      "id": "5986f534",
      "metadata": {
        "colab": {
          "base_uri": "https://localhost:8080/"
        },
        "id": "5986f534",
        "outputId": "d79b85e9-c28f-4b75-b586-106e9f63bee9"
      },
      "outputs": [
        {
          "output_type": "stream",
          "name": "stdout",
          "text": [
            "What is the temperature? f\n",
            "Please enter an integer\n",
            "What is the temperature? 5\n",
            "Cold\n"
          ]
        }
      ],
      "source": [
        "\n",
        "# YOUR CODE HERE\n",
        "def main():\n",
        "  try:\n",
        "    temp=int(input(\"What is the temperature? \"))\n",
        "  except ValueError:\n",
        "    print(\"Please enter an integer\")\n",
        "    temp=int(input(\"What is the temperature? \"))\n",
        "  if temp<=0:\n",
        "    print(\"Freezing\")\n",
        "  elif temp>=1 and temp<=15:\n",
        "    print(\"Cold\")\n",
        "  elif temp>=16 and temp<=25:\n",
        "    print(\"Mild\")\n",
        "  elif temp>=26 and temp<=32:\n",
        "    print(\"Warm\")\n",
        "  elif temp>=33:\n",
        "    print(\"Hot\")\n",
        "main()\n",
        "\n",
        "# 1) Validate temp (int)\n",
        "# 2) Choose exactly one label to print\n"
      ]
    },
    {
      "cell_type": "markdown",
      "id": "904b40ac",
      "metadata": {
        "id": "904b40ac"
      },
      "source": [
        "\n",
        "## 5) Street parking rules\n",
        "\n",
        "**Prompt**  \n",
        "Ask for **day** (`\"mon\"...\"sun\"`), **hour** (0–23), and **holiday** (`\"y\"/\"n\"`).  \n",
        "- **No parking** on weekdays during rush hours: 7–10 and 16–19, **unless** it is a holiday.  \n",
        "- Parking is allowed at all other times (including weekends).\n",
        "\n",
        "**Your task**  \n",
        "- Validate inputs.  \n",
        "- Print exactly `\"Parking allowed\"` **or** `\"No parking\"`.\n",
        "\n",
        "*Gentle hint:* Consider booleans like `is_weekday = day in {...}` and `rush = (7 <= hour <= 10) or (16 <= hour <= 19)`.\n"
      ]
    },
    {
      "cell_type": "code",
      "execution_count": 51,
      "id": "ccbba117",
      "metadata": {
        "colab": {
          "base_uri": "https://localhost:8080/"
        },
        "id": "ccbba117",
        "outputId": "c7f1aeb7-b17a-48d4-8927-eed84b7a5abd"
      },
      "outputs": [
        {
          "output_type": "stream",
          "name": "stdout",
          "text": [
            "What day of the week is it?'mon'...'sun' wed\n",
            "Which hour? 8\n",
            "Is it a holiday? y/n n\n",
            "No Parking\n"
          ]
        }
      ],
      "source": [
        "\n",
        "# YOUR CODE HERE\n",
        "def main():\n",
        "  try:\n",
        "    day=input(\"What day of the week is it?'mon'...'sun' \").lower().strip()\n",
        "    if day not in ('sun', 'mon','tues','wed','thurs','fri','sat'):\n",
        "      raise ValueError(\"Expected 'sun'...'mon'\")\n",
        "  except ValueError:\n",
        "    print(\"Please enter the correct format (ex. sun)\")\n",
        "    day=input(\"What day of the week is it?'mon'...'sun' \").lower().strip()\n",
        "  try:\n",
        "    hour=int(input(\"Which hour? \"))\n",
        "    if hour<0 or hour>23:\n",
        "      raise ValueError(\"Expected integer between 0 and 23\")\n",
        "  except ValueError:\n",
        "    print(\"Please enter an integer between 0 and 23\")\n",
        "    hour=int(input(\"Which hour? \"))\n",
        "  try:\n",
        "    holiday=input(\"Is it a holiday? y/n \")\n",
        "    if holiday not in'y' and holiday not in'n':\n",
        "      raise ValueError(\"Expected y or n\")\n",
        "  except ValueError:\n",
        "    print(\"Please enter y or n\")\n",
        "    holiday=input(\"Is it a holiday? y/n \")\n",
        "  is_weekday= day in {'mon','tues','wed','thurs','fri'}\n",
        "  rush= (7<= hour <=10) or (16<= hour <=19)\n",
        "  if rush==True and is_weekday==True and holiday==\"n\":\n",
        "    print(\"No Parking\")\n",
        "  else:\n",
        "    print(\"Parking allowed\")\n",
        "main()\n",
        "# 1) Validate day/hour/holiday\n",
        "# 2) Decide and print the exact message\n"
      ]
    },
    {
      "cell_type": "markdown",
      "id": "5dc3c3fa",
      "metadata": {
        "id": "5dc3c3fa"
      },
      "source": [
        "\n",
        "## 6) Grade with curve boundaries\n",
        "\n",
        "**Prompt**  \n",
        "Ask for **raw** (float, 0–100) and **curve** (int, can be negative).  \n",
        "- Compute `final = raw + curve`.  \n",
        "- Clamp to [0, 100].  \n",
        "- Print a single letter:\n",
        "  - `>= 90`: `\"A\"`\n",
        "  - `80–89`: `\"B\"`\n",
        "  - `70–79`: `\"C\"`\n",
        "  - `60–69`: `\"D\"`\n",
        "  - else: `\"F\"`\n",
        "\n",
        "**Your task**  \n",
        "- Validate inputs; clamp carefully; print one letter.\n",
        "\n",
        "*Gentle hint:* After adding, use small checks like `if final < 0: final = 0`.\n"
      ]
    },
    {
      "cell_type": "code",
      "execution_count": null,
      "id": "0598e54f",
      "metadata": {
        "id": "0598e54f"
      },
      "outputs": [],
      "source": [
        "\n",
        "# YOUR CODE HERE\n",
        "def main():\n",
        "  try:\n",
        "    raw= float(input(\"Please enter the raw score \"))\n",
        "  except ValueError:\n",
        "    print(\"Please enter a number \")\n",
        "    raw= float(input(\"Please enter the raw score \"))\n",
        "  try:\n",
        "    curve=int(input(\"Please enter the curve \"))\n",
        "  except ValueError:\n",
        "    print(\"Please enter an integer\")\n",
        "    curve=int(input(\"Please enter the curve \"))\n",
        "  final= raw+curve\n",
        "\n",
        "# 1) Validate raw/curve\n",
        "# 2) Clamp 0..100\n",
        "# 3) Print one letter\n"
      ]
    },
    {
      "cell_type": "markdown",
      "id": "87c88705",
      "metadata": {
        "id": "87c88705"
      },
      "source": [
        "\n",
        "## 7) Palindrome (straight‑line, no loops)\n",
        "\n",
        "**Prompt**  \n",
        "Ask for **text** (string). Normalize by stripping outer spaces and lowercasing.  \n",
        "If the text reads the same forwards and backwards, print `\"Palindrome\"`; otherwise, print `\"Not palindrome\"`.\n",
        "\n",
        "**Your task**  \n",
        "- No loops needed; slicing is okay (`[::-1]`).  \n",
        "- Keep messages exact.\n",
        "\n",
        "*Gentle hint:* Compare the normalized string to its reversed version.\n",
        "\n",
        "** Support **\n",
        "A palindrome check can be done with just string basics:\n",
        "\n",
        "- .strip() → remove spaces at the edges\n",
        "\n",
        "- .lower() → normalize case\n",
        "\n",
        "- [::-1] → reverses the string\n",
        "- example of string reversal :  my_str == \"cat\" then my_str[::-1] == \"tac\"\n",
        "- my_str_reveresed = my_str[::-1]\n"
      ]
    },
    {
      "cell_type": "code",
      "execution_count": null,
      "id": "f3a3d82a",
      "metadata": {
        "id": "f3a3d82a"
      },
      "outputs": [],
      "source": [
        "\n",
        "# YOUR CODE HERE\n",
        "# 1) Read and normalize text\n",
        "# 2) Compare to reversed and print the message\n"
      ]
    },
    {
      "cell_type": "markdown",
      "id": "2953a6f6",
      "metadata": {
        "id": "2953a6f6"
      },
      "source": [
        "\n",
        "## 8) Function practice — `is_palindrome(text) -> bool\n",
        "\n",
        "You’ll write a **small** helper function, then use it.  \n",
        "It’s okay if functions are new — follow the scaffold and you’ll be fine!\n",
        "\n",
        "**Steps**\n",
        "1. Implement `is_palindrome(text)` that returns `True` if `text.strip().lower()` equals its reversed version, else `False`.\n",
        "2. Then, outside the function, prompt the user and print `\"Palindrome\"` or `\"Not palindrome\"` based on the function’s result.\n",
        "\n",
        "*Gentle hint:* Start by writing the function body with a placeholder `return False`, then improve it.\n"
      ]
    },
    {
      "cell_type": "code",
      "execution_count": null,
      "id": "b9986d4a",
      "metadata": {
        "id": "b9986d4a"
      },
      "outputs": [],
      "source": [
        "\n",
        "def is_palindrome(text):\n",
        "    \"\"\"Return True if text is a palindrome after strip+lower, else False.\"\"\"\n",
        "    # TODO: normalize text (strip + lower)\n",
        "    # TODO: compare with reversed (slicing is ok)\n",
        "    # TODO: return True/False\n",
        "    pass\n",
        "\n",
        "# YOUR CODE HERE\n",
        "# 1) Prompt for input\n",
        "# 2) Call is_palindrome and print the correct message\n"
      ]
    },
    {
      "cell_type": "markdown",
      "id": "8e72d89c",
      "metadata": {
        "id": "8e72d89c"
      },
      "source": [
        "\n",
        "## 9) Function practice — `parking_allowed(day, hour, holiday) -> bool`\n",
        "\n",
        "Let’s package the parking policy into a small function and then use it.\n",
        "\n",
        "**Policy reminder**  \n",
        "- **No parking** on weekdays during 7–10 and 16–19, **unless** it is a holiday.  \n",
        "- Parking is allowed at all other times (including weekends).\n",
        "\n",
        "**Steps**\n",
        "1. Implement `parking_allowed(day, hour, holiday)` so it returns `True` when parking is allowed, `False` otherwise.\n",
        "2. Then prompt for inputs, **validate them**, and print `\"Parking allowed\"` or `\"No parking\"`.\n",
        "\n",
        "*Gentle hint:* Booleans like `is_weekday` and `rush` make your `if` very readable.\n"
      ]
    },
    {
      "cell_type": "code",
      "execution_count": null,
      "id": "11240051",
      "metadata": {
        "id": "11240051"
      },
      "outputs": [],
      "source": [
        "\n",
        "def parking_allowed(day, hour, holiday):\n",
        "    \"\"\"Return True if parking is allowed under the policy; else False.\n",
        "    day: 'mon'..'sun', hour: 0..23, holiday: 'y' or 'n'\n",
        "    \"\"\"\n",
        "    # TODO: implement using and/or/not\n",
        "    pass\n",
        "\n",
        "# YOUR CODE HERE\n",
        "# 1) Prompt and validate inputs\n",
        "# 2) Call parking_allowed and print the exact message\n"
      ]
    },
    {
      "cell_type": "markdown",
      "id": "8a8cef39",
      "metadata": {
        "id": "8a8cef39"
      },
      "source": [
        "\n",
        "## 10) Mini‑Project (No Loops): Cinema Entry & Pricing Decision Engine\n",
        "\n",
        "This is a friendly, single‑run decision engine — no loops needed. You’ll determine **entry permission** and a **final ticket price** based on the rules.\n",
        "\n",
        "**Inputs to gather and validate (in this order)**  \n",
        "1. **age** (int, 0–120)  \n",
        "2. **day** (`mon, tue, wed, thu, fri, sat, sun`)  \n",
        "3. **hour** (int 0–23) — cinema is open to **everyone** 10–22 inclusive; **members only** at 9 and 23  \n",
        "4. **holiday** (`y/n`)  \n",
        "5. **member** (`y/n`)  \n",
        "6. **student** (`y/n`)  \n",
        "7. **base_price** (float ≥ 0)  \n",
        "8. **coupon10** (`y/n`)  \n",
        "9. **coupon15** (`y/n`)\n",
        "\n",
        "**Access Policy**  \n",
        "- If holiday → `\"Entry allowed\"` any time.  \n",
        "- Otherwise:  \n",
        "  - 10–22 → `\"Entry allowed\"`  \n",
        "  - 9 or 23 → `\"Entry allowed (members only hours)\"` **if** member is `\"y\"`; otherwise `\"Closed\"`  \n",
        "  - All other hours → `\"Closed\"`  \n",
        "If closed, print the access message and stop.\n",
        "\n",
        "**Discounts (apply at most one in this order)**  \n",
        "1) If both coupons are `\"y\"` → print `\"Invalid: cannot stack\"` and **do not use any coupon** (you may still use age/student/member rule below).  \n",
        "2) Else if `coupon15 == \"y\"` and `base_price >= 80` → 15% off.  \n",
        "3) Else if `coupon10 == \"y\"` and `base_price >= 50` → 10% off.  \n",
        "4) Else if age < 12 or age >= 65 → 20% off.  \n",
        "5) Else if student == \"y\" or member == \"y\" → 10% off.  \n",
        "6) Else → no discount.\n",
        "\n",
        "**Output**  \n",
        "- Print the entry result first. If allowed, print a **pricing summary** (base, discount applied, final) with two decimals using f‑strings.\n",
        "\n",
        "*Gentle hints*  \n",
        "- Create helpful booleans like `is_holiday`, `is_member`, etc.  \n",
        "- Use `f\"{price:.2f}\"` for two decimal places.  \n",
        "- Take your time, and test a few scenarios to see each branch work.\n"
      ]
    },
    {
      "cell_type": "code",
      "execution_count": null,
      "id": "b51d7e1b",
      "metadata": {
        "id": "b51d7e1b"
      },
      "outputs": [],
      "source": [
        "\n",
        "# YOUR CODE HERE\n",
        "# 1) Gather and validate inputs (try/except + raise ValueError for issues)\n",
        "# 2) Decide entry\n",
        "# 3) If allowed, apply the discount rules in the given order (at most one discount category)\n",
        "# 4) Print a clear summary with two-decimal formatting\n"
      ]
    },
    {
      "cell_type": "markdown",
      "id": "ca529e29",
      "metadata": {
        "id": "ca529e29"
      },
      "source": [
        "\n",
        "---\n",
        "\n",
        "### You’re doing great 💫\n",
        "Remember: learning conditionals is about clear thinking and small steps.  \n",
        "Celebrate each little win, and don’t hesitate to re-run cells as you refine your code.\n"
      ]
    }
  ],
  "metadata": {
    "kernelspec": {
      "display_name": "Python 3",
      "language": "python",
      "name": "python3"
    },
    "language_info": {
      "name": "python",
      "version": "3.x"
    },
    "colab": {
      "provenance": [],
      "include_colab_link": true
    }
  },
  "nbformat": 4,
  "nbformat_minor": 5
}